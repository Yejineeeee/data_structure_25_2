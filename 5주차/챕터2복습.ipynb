{
 "cells": [
  {
   "cell_type": "markdown",
   "id": "456a9523",
   "metadata": {},
   "source": [
    "# 챕터 1 복습"
   ]
  },
  {
   "cell_type": "markdown",
   "id": "4c44658e",
   "metadata": {},
   "source": [
    "### 1. 등차수열 (-> 재귀적 구조가 O)\n",
    "재귀 알고리즘 -> 경계 조건을 항상 가지고 있어야 함.\n",
    "여기서는 ***if (n = 1)이 경계조건***"
   ]
  },
  {
   "cell_type": "code",
   "execution_count": 2,
   "id": "593ddd0e",
   "metadata": {},
   "outputs": [
    {
     "name": "stdout",
     "output_type": "stream",
     "text": [
      "7\n"
     ]
    }
   ],
   "source": [
    "def sep(n) :\n",
    "    if (n == 1) :\n",
    "        return 1\n",
    "    else :\n",
    "        return sep(n-1) + 3\n",
    "\n",
    "print(sep(3))"
   ]
  },
  {
   "cell_type": "markdown",
   "id": "66bd9fb1",
   "metadata": {},
   "source": [
    "### 2. 피보나치 수열 (재귀 버전)\n",
    "피보나치 수열은 재귀 알고리즘으로 구현하면 치명적이다. -> 시간이 너무 많이 걸리기 때문   \n",
    "이유 : ***한번 계산해놓은 결과를 계속 호출하여 지수함수적인 중복을 일으키기 때문***"
   ]
  },
  {
   "cell_type": "code",
   "execution_count": 6,
   "id": "9a8f3318",
   "metadata": {},
   "outputs": [
    {
     "name": "stdout",
     "output_type": "stream",
     "text": [
      "55\n"
     ]
    }
   ],
   "source": [
    "def fib(n) :\n",
    "    if (n == 1 or n == 2) :\n",
    "        return 1\n",
    "    else :\n",
    "        return fib(n-1) + fib(n-2)\n",
    "    \n",
    "print(fib(10))"
   ]
  },
  {
   "cell_type": "code",
   "execution_count": null,
   "id": "62f7c3b7",
   "metadata": {},
   "outputs": [
    {
     "name": "stdout",
     "output_type": "stream",
     "text": [
      "55\n"
     ]
    }
   ],
   "source": [
    "def fib_fast(n):\n",
    "    if n <= 2:               # F(1)=F(2)=1\n",
    "        return 1\n",
    "    a, b = 1, 1             # a = F[1], b = F[2]\n",
    "    for i in range(3, n + 1):\n",
    "        a, b = b, a + b      # 한 칸씩 밀림\n",
    "    return b                  # ← 루프 바깥에서 반환\n",
    "\n",
    "print(fib_fast(10)) "
   ]
  },
  {
   "cell_type": "markdown",
   "id": "b0cd61e8",
   "metadata": {},
   "source": [
    "### 3. 피보나치 수열 (비재귀 버전)\n",
    "재귀는 문제를 해결하는 유용한 도구이지만, 잘못 쓰면 치명적이다.   \n",
    "자료구조와 알고리즘에서는 주로 재귀가 유용할 경우에 사용한다."
   ]
  },
  {
   "cell_type": "code",
   "execution_count": 15,
   "id": "f42113bb",
   "metadata": {},
   "outputs": [
    {
     "name": "stdout",
     "output_type": "stream",
     "text": [
      "A -> B\n",
      "A -> C\n",
      "B -> C\n",
      "A -> B\n",
      "C -> A\n",
      "C -> B\n",
      "A -> B\n"
     ]
    }
   ],
   "source": [
    "def move(n, a, b, c) :\n",
    "    if (n > 0) :\n",
    "        move(n-1, a, c, b)\n",
    "        print(f\"{a} -> {b}\")  # a에 있는 원반을 b로 옮긴다\n",
    "        move(n-1, c, b, a)\n",
    "        \n",
    "move(3, 'A', 'B', 'C')"
   ]
  },
  {
   "cell_type": "code",
   "execution_count": 20,
   "id": "20f73cd2",
   "metadata": {},
   "outputs": [
    {
     "name": "stdout",
     "output_type": "stream",
     "text": [
      "A -> B\n",
      "A -> C\n",
      "B -> C\n",
      "A -> B\n",
      "C -> A\n",
      "C -> B\n",
      "A -> B\n"
     ]
    }
   ],
   "source": [
    "def move(n, a, b, c) :\n",
    "    if (n > 0) :\n",
    "        move(n-1, a, c, b)\n",
    "        print(f\"{a} -> {b}\")  # a에 있는 원반을 b로 옮긴다\n",
    "        move(n-1, c, b, a)\n",
    "        \n",
    "move(3, 'A', 'B', 'C')"
   ]
  },
  {
   "cell_type": "markdown",
   "id": "bc53b475",
   "metadata": {},
   "source": [
    "### 4. 하노이 탑\n",
    "기둥 a에 있는 n개의 원반을 기둥 b로 옮기는 작업    \n",
    "i ) 맨 아래 원반을 제외한 나머지 n-1개의 원반을 기둥 c로 옮긴다   \n",
    "ii ) a에 남은 원반 1개를 b로 옮긴다      \n",
    "iii ) c로 옮겨둔 n-1개의 원반을 b로 옮긴다"
   ]
  },
  {
   "cell_type": "markdown",
   "id": "c4c962e7",
   "metadata": {},
   "source": [
    "# 5. 선택 정렬 알고리즘\n",
    "1 ) 먼저 전체를 한 번 훑어 가장 큰 원소를 찾는다     \n",
    "2 ) 이 원소를 제일 오른쪽 원소와 맞바꾼다     \n",
    "3 ) 그러면 맨 오른쪽에 제일 큰 원소가 차지하게 되고, 이 원소는 더 이상 자리를 바꿀 필요가 없다       \n",
    "    -> 즉, 제일 큰 원소에 관한 한 정렬이 끝난 것. 맨 오른쪽 원소를 관심 대상에서 제외함.    \n",
    "    -> **재귀적 구조** (n-1개짜리 정렬 구조가 남음)     \n",
    "         \n",
    "***알고리즘에서 for 루프가 한 바퀴 돌 때마다 문제의 크기가 하나씩 작아진다.***"
   ]
  },
  {
   "cell_type": "markdown",
   "id": "9f4cff34",
   "metadata": {},
   "source": [
    "### 선택 정렬 (재귀 알고리즘 X)"
   ]
  },
  {
   "cell_type": "code",
   "execution_count": 13,
   "id": "594bf1f7",
   "metadata": {},
   "outputs": [
    {
     "name": "stdout",
     "output_type": "stream",
     "text": [
      "[1, 2, 3, 4, 5]\n"
     ]
    }
   ],
   "source": [
    "def selectionSort(a, n):  # a[0..n-1] 정렬\n",
    "    if n > 1:\n",
    "        last = n - 1                 # 끝 인덱스\n",
    "        k = 0                        # 0..last 구간의 최댓값 위치\n",
    "        for i in range(1, n):        # = range(1, last+1)\n",
    "            if a[i] > a[k]:\n",
    "                k = i\n",
    "        a[k], a[last] = a[last], a[k]  # 최댓값을 끝으로 이동\n",
    "        selectionSort(a, n - 1)        # 나머지 구간 정렬\n",
    "\n",
    "a = [5, 2, 4, 1, 3]\n",
    "selectionSort(a, len(a))\n",
    "print(a)  # [1, 2, 3, 4, 5]"
   ]
  },
  {
   "cell_type": "markdown",
   "id": "95c31780",
   "metadata": {},
   "source": [
    "### 재귀 버전 선택 정렬 알고리즘"
   ]
  },
  {
   "cell_type": "code",
   "execution_count": 11,
   "id": "cd31b27f",
   "metadata": {},
   "outputs": [
    {
     "name": "stdout",
     "output_type": "stream",
     "text": [
      "[1, 2, 3, 4, 5]\n"
     ]
    }
   ],
   "source": [
    "def selectionSort(a, n):  # a[0..n-1] 정렬\n",
    "    for last in range(n-1, 0, -1):    # last = n-1, n-2, ..., 1\n",
    "        k = 0                         # 0..last 구간의 최댓값 위치\n",
    "        for i in range(1, last+1):\n",
    "            if a[i] > a[k]:\n",
    "                k = i\n",
    "        a[k], a[last] = a[last], a[k] # 최댓값을 끝으로 이동\n",
    "\n",
    "a = [5, 2, 4, 1, 3]\n",
    "selectionSort(a, len(a))\n",
    "print(a)  # [1, 2, 3, 4, 5]\n"
   ]
  },
  {
   "cell_type": "markdown",
   "id": "e5aa1e37",
   "metadata": {},
   "source": [
    "재귀 버전 선택 정렬 알고리즘에서는 가장 큰 원소를 찾아 오른쪽 원소와 맞바꾸는 작업을 한다.   \n",
    "그리고 마지막에서 **자기보다 하나 작은 선택 정렬 문제를 호출**한다.   \n",
    "크기 n인 선택 정렬 문제가 n-1인 선택 정렬 문제를 호출한다.   \n",
    "   \n",
    "-> if (n-1)은 경계조건, 문제의 크기가 1보다 클 때만 자기호출 하라는 뜻이다."
   ]
  },
  {
   "cell_type": "markdown",
   "id": "b43cda59",
   "metadata": {},
   "source": [
    "# 6. 중위, 전위, 후위 표현법"
   ]
  },
  {
   "cell_type": "markdown",
   "id": "061f14f1",
   "metadata": {},
   "source": [
    "#### 1. 중위 표현법\n",
    ": 연산자가 피연산자 사이에 놓이는 수식 모양   \n",
    "구조 : <변수>**<연산자>**<변수>"
   ]
  },
  {
   "cell_type": "markdown",
   "id": "d65fff26",
   "metadata": {},
   "source": [
    "#### 2. 전위 표현법\n",
    ": 연산자가 피연산자 앞에 놓이는 수식 모양   \n",
    "구조 : **<연산자>**<변수><변수>"
   ]
  },
  {
   "cell_type": "markdown",
   "id": "38d51af3",
   "metadata": {},
   "source": [
    "#### 3. 후위 표현법\n",
    ": 연산자가 피연산자 뒤에 놓이는 수식 모양   \n",
    "구조 : <변수><변수>**<연산자>**"
   ]
  },
  {
   "cell_type": "markdown",
   "id": "75703937",
   "metadata": {},
   "source": [
    "# 7. 깊이 우선 탐색"
   ]
  },
  {
   "cell_type": "markdown",
   "id": "cff28005",
   "metadata": {},
   "source": [
    "### 깊이 우선 탐색 (DFS)\n",
    "- 재귀를 상징하는 대표적인 예 (재귀 알고리즘)   \n",
    "- 노드 x에서 이를 수 있는 모든 노드 찾기   \n",
    "- 모든 노드 v에 대해 v.visited는 false로 초기화 됨"
   ]
  },
  {
   "cell_type": "code",
   "execution_count": null,
   "id": "abcf3dac",
   "metadata": {},
   "outputs": [],
   "source": [
    "# 알고리즘\n",
    "def DFS(x) : \n",
    "    x.visited = True\n",
    "    # x에서 화살표로 연결된 모든 노드 y 각각에 대하여\n",
    "    if (y.visited == False) :\n",
    "        DFS(y)"
   ]
  },
  {
   "cell_type": "code",
   "execution_count": null,
   "id": "07ae7cf1",
   "metadata": {},
   "outputs": [
    {
     "name": "stdout",
     "output_type": "stream",
     "text": [
      "{'d', 'c', 'a', 'b'}\n"
     ]
    }
   ],
   "source": [
    "# 예시 (GPT)\n",
    "def DFS(graph, x, visited=None):\n",
    "    if visited is None:\n",
    "        visited = set()\n",
    "    if x in visited:\n",
    "        return visited\n",
    "    visited.add(x)\n",
    "    for y in graph.get(x, []):   # x에서 화살표로 연결된 모든 y\n",
    "        if y not in visited:\n",
    "            DFS(graph, y, visited)\n",
    "    return visited\n",
    "\n",
    "G = {\n",
    "  'a': ['b', 'd'],\n",
    "  'b': ['a', 'c'],\n",
    "  'c': ['b'],\n",
    "  'd': ['a']\n",
    "}\n",
    "visited = DFS(G, 'a')   # {'a','b','c','d'}\n",
    "print(visited)"
   ]
  },
  {
   "cell_type": "markdown",
   "id": "b8a25c70",
   "metadata": {},
   "source": [
    "DFS는 개성이 강하고 중요한 알고리즘으로, 이와 같은 방식을 ***백트래킹***이라고 부르기도 함."
   ]
  },
  {
   "cell_type": "markdown",
   "id": "a86320f1",
   "metadata": {},
   "source": [
    "# 7. 재귀와 수학적 귀납법\n",
    "- 재귀 알고리즘은 수학적 귀납법과 관련이 깊다.\n",
    "- 수학적 귀납법 : 자신보다 작은 문제에 대한 결론이 옳다고 가정하고, 자신과 이 작은 문제의 관계를 통해 자신에 대한 결론도 옮음을 보이는 것이다.\n",
    "- 재귀 알고리즘이 자신보다 작은 문제를 자기호출 하는 것은 수학적 귀납법에서 자신보다 작은 문제에 대해 결론이 옳다고 가정하는 것과 같다.\n",
    "-> 자신보다 작은 문제에 대해서는 이 알고리즘이 제대로 작동한다 가정"
   ]
  },
  {
   "cell_type": "markdown",
   "id": "887abc9a",
   "metadata": {},
   "source": [
    "#### 모든 재귀 알고리즘은 명시적/암묵적으로 아래 세 가지 구성 요소를 반드시 갖추어야 한다.\n",
    "**1. 경계 조건 (종료 조건)**    \n",
    ": 재귀 호출이 반복되다 궁극적으로 끝나는 조건   \n",
    "**2. 재귀 호출**   \n",
    "**3. 관계**   \n",
    ": 닮음꼴 작은 문제(들)와 본 문제 간의 관계를 나타내는 부분"
   ]
  },
  {
   "cell_type": "markdown",
   "id": "d4f1a100",
   "metadata": {},
   "source": [
    "# 연습문제"
   ]
  },
  {
   "cell_type": "markdown",
   "id": "b12cf963",
   "metadata": {},
   "source": [
    "## 1번"
   ]
  },
  {
   "attachments": {
    "image.png": {
     "image/png": "[encoded data removed]"
    }
   },
   "cell_type": "markdown",
   "id": "cb455be6",
   "metadata": {},
   "source": [
    "![image.png](attachment:image.png)"
   ]
  },
  {
   "cell_type": "markdown",
   "id": "7cac076f",
   "metadata": {},
   "source": [
    "장점 : 더미 헤드를 사용하면 리스트의 item이 0일 때, 0으로 변할 때를 신경쓰지 않아도 된다.    \n",
    "더미 헤드가 없다면 리스트 클래스의 메서드를 작성할 때 위의 경우를 고려해야한다.   \n",
    "단점 : 더미 헤드를 위한 공간이 필요하기 때문에 메모리 공간이 낭비된다.  "
   ]
  },
  {
   "cell_type": "markdown",
   "id": "2388bc12",
   "metadata": {},
   "source": []
  }
 ],
 "metadata": {
  "kernelspec": {
   "display_name": "base",
   "language": "python",
   "name": "python3"
  },
  "language_info": {
   "codemirror_mode": {
    "name": "ipython",
    "version": 3
   },
   "file_extension": ".py",
   "mimetype": "text/x-python",
   "name": "python",
   "nbconvert_exporter": "python",
   "pygments_lexer": "ipython3",
   "version": "3.12.3"
  }
 },
 "nbformat": 4,
 "nbformat_minor": 5
}
