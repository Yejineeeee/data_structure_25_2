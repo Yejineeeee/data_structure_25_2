{
 "cells": [
  {
   "cell_type": "markdown",
   "id": "e2d3b669",
   "metadata": {},
   "source": [
    "## 1. 다음 빈칸에 적당한 단어를 적으시오."
   ]
  },
  {
   "cell_type": "markdown",
   "id": "29bc4aee",
   "metadata": {},
   "source": [
    "(1) Factorial(n) :  \n",
    "        if(n = 1) return 1   \n",
    "        return n*Factorial(n-1)"
   ]
  },
  {
   "cell_type": "markdown",
   "id": "8b75be8c",
   "metadata": {},
   "source": [
    "#### 위 코드의 점근적 시간 복잡도는 (  )라고 하는 것이 최선의 표현이다."
   ]
  },
  {
   "cell_type": "markdown",
   "id": "cbf291d9",
   "metadata": {},
   "source": [
    "[답]"
   ]
  },
  {
   "cell_type": "markdown",
   "id": "d3fc4691",
   "metadata": {},
   "source": [
    "### Θ(n)"
   ]
  },
  {
   "cell_type": "markdown",
   "id": "e2e0d266",
   "metadata": {},
   "source": [
    "2. def threefold(a) :   \n",
    "           a = 3*a   \n",
    "\n",
    "    x = 10\n",
    "    threefold(x)   \n",
    "    print(x)      \n",
    " 위 코드의 출력값은 ( )이다."
   ]
  },
  {
   "cell_type": "markdown",
   "id": "defbc70d",
   "metadata": {},
   "source": [
    "[답]\n",
    "10"
   ]
  },
  {
   "cell_type": "markdown",
   "id": "492bf2e9",
   "metadata": {},
   "source": [
    "1. 다음 빈칸에 적당한 단어를 적으시오   \n",
    "(1) Factorial(n) :   \n",
    "        if (n=1) return 1   \n",
    "        return n*"
   ]
  },
  {
   "cell_type": "markdown",
   "id": "182b968a",
   "metadata": {},
   "source": [
    "3. ( )는 \"리스트는 대략 이러이러한 작업으로 구성된 자료구조라고 정의한 것\"이다."
   ]
  }
 ],
 "metadata": {
  "language_info": {
   "name": "python"
  }
 },
 "nbformat": 4,
 "nbformat_minor": 5
}
