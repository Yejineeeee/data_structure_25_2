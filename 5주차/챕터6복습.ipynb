{
 "cells": [
  {
   "cell_type": "markdown",
   "id": "bd9db654",
   "metadata": {},
   "source": [
    "# 챕터 6 복습"
   ]
  },
  {
   "cell_type": "markdown",
   "id": "27eebc50",
   "metadata": {},
   "source": [
    "## 1. 연결 리스트의 구현"
   ]
  },
  {
   "cell_type": "markdown",
   "id": "ac79e953",
   "metadata": {
    "vscode": {
     "languageId": "plaintext"
    }
   },
   "source": [
    "    from DS.list.listNode import listNode   # 클래스 ListNode가 다른 파일에 있을 경우\n",
    "\n",
    "    class LinkedListBasic :\n",
    "        def __init__(self) :\n",
    "            self.__head = ListNode('dummy', None)\n",
    "            self.__numItems = 0\n",
    "\n",
    "        def insert(self, i, newItems) :\n",
    "            ...\n",
    "        def append(self, newItems) :\n",
    "            ...\n",
    "        def pop(self, i) :\n",
    "            ...\n",
    "         ..."
   ]
  },
  {
   "cell_type": "markdown",
   "id": "4260f4a4",
   "metadata": {},
   "source": [
    "- 헤드 노드의 레퍼런스 이름에 __ (언더바 2개)를 붙여 __head로 명명함.   \n",
    "- 리스트의 총 원소 수 : __numItems   \n",
    "- 자신이 속한 클래스의 객체 : self   "
   ]
  },
  {
   "cell_type": "markdown",
   "id": "112a46b8",
   "metadata": {},
   "source": [
    "- pop()은 인자가 있을 수도 있고, 없을 수도 있다.\n",
    "    1. pop(i) : i번 원소에 대한 삭제나 알려주기   \n",
    "    2. pop() : 인자가 없이 호출되면 마지막 원소에 대한 삭제   \n",
    "    3. pop(-1) : 마지막 원소에 대한 작업으로 간주   "
   ]
  },
  {
   "cell_type": "markdown",
   "id": "90704cd3",
   "metadata": {},
   "source": [
    "- append(x) : 원소 x를 연결 리스트 끝에 더하는 것   \n",
    "    1. append는 처음부터 마지막 원소까지 전부 방문해야 하는 번거로움이 존재함   \n",
    "    -> extend(), copy(), reverse()도 이런 비효율을 포함하고 있음   \n",
    "    -> reverse()는 복사하려는 연결 리스트와 같은 리스트의 새 리스트를 생성하는 비효율을 추가로 포함하고 있음   \n",
    "- 따라서 위 연결 클래스 이름은 **LinkedListBasic**이다."
   ]
  },
  {
   "cell_type": "markdown",
   "id": "371a485d",
   "metadata": {},
   "source": [
    "#### 원소 삽입   \n",
    ": 원소 x를 i번 자리에 삽입하는 메서드와 원소 x를 리스트의 맨 뒤에 추가하는 메서드   "
   ]
  },
  {
   "cell_type": "markdown",
   "id": "b9a53a90",
   "metadata": {},
   "source": [
    "\t# [알고리즘 5 - 2] 구현: 연결 리스트에 원소 삽입하기(더미 헤드를 두는 대표 버전)\n",
    "\tdef insert(self, i:int, newItem):\n",
    "\t\tif i >= 0 and i <= self.__numItems:\n",
    "\t\t\tprev = self.__getNode(i - 1)\n",
    "\t\t\tnewNode = ListNode(newItem, prev.next)\n",
    "\t\t\tprev.next = newNode\n",
    "\t\t\tself.__numItems += 1\n",
    "\t\telse:\n",
    "\t\t\tprint(\"index\", i, \": out of bound in insert()\") # 필요 시 에러 처리"
   ]
  },
  {
   "cell_type": "markdown",
   "id": "7c62eee9",
   "metadata": {},
   "source": [
    "- 원소 x를 i번 자리에 삽입하는 메서드는 삽입할 노드의 직전 노드의 레퍼런스인 prev를   \n",
    "메서드 __getNode(i-1)를 통해서 찾은 다음 x를 삽입한다.   \n",
    "- i = 0이면 i-1번 노드는 더미 헤드 노드가 되고, i = __numItems이면 i-1번 노드는 마지막 노드가 된다.  \n",
    "- 코드 첫 줄에 i는 int 타입이고, 리턴 타입은 ListNode임을 명시해놓았다."
   ]
  },
  {
   "cell_type": "markdown",
   "id": "7eb0335b",
   "metadata": {
    "vscode": {
     "languageId": "plaintext"
    }
   },
   "source": [
    "\t# [알고리즘 5-6] 구현: 연결 리스트의 i번 노드 알려주기\n",
    "\tdef __getNode(self, i:int) -> ListNode:\n",
    "\t\tcurr = self.__head # 더미 헤드, index: -1\n",
    "\t\tfor index in range(i+1):\n",
    "\t\t\tcurr = curr.next\n",
    "\t\treturn curr"
   ]
  },
  {
   "cell_type": "markdown",
   "id": "a81a1308",
   "metadata": {},
   "source": [
    "- 원소 x를 리스트의 맨 뒤에 추가하는 메서드 append()는 먼저 리스트의 맨 끝 원소를 찾아   \n",
    "변수 prev가 레퍼런스하도록 한다. prev가 준비되면 이후부터는 i번 자리에 삽입하는 작업과   \n",
    "동일하다. "
   ]
  },
  {
   "cell_type": "markdown",
   "id": "55a4daf8",
   "metadata": {
    "vscode": {
     "languageId": "plaintext"
    }
   },
   "source": [
    "\tdef append(self, newItem):\n",
    "\t\tprev = self.__getNode(self.__numItems - 1)\n",
    "\t\tnewNode = ListNode(newItem, prev.next)\n",
    "\t\tprev.next = newNode\n",
    "\t\tself.__numItems += 1"
   ]
  },
  {
   "cell_type": "markdown",
   "id": "1814bcc2",
   "metadata": {},
   "source": [
    "#### 원소 삭제\n",
    ": i번 노드를 삭제하는 메서드 pop()은 i-1번 노드를 찾아 변수 prev가 레퍼런스 하도록 한 후 삭제한다.   \n",
    "작업이 잘 끝나면 삭제 원소를 리턴하고, 삭제 원소의 인덱스가 번위 밖이면 None을 리턴한다."
   ]
  },
  {
   "cell_type": "markdown",
   "id": "f429d7fe",
   "metadata": {},
   "source": [
    "- 메서드 **pop()은 원소의 위치를 주고 삭제**하는 반면, 메서드 **remove()는 원소를 주고 이 원소가 가진 노드를 삭제**한다.   \n",
    "- 만약 해당 원소를 가진 노드가 여러 개 있으면 처음 만나는 노드를 삭제한다.    "
   ]
  },
  {
   "cell_type": "markdown",
   "id": "484fff1b",
   "metadata": {},
   "source": [
    "\tdef pop(self, i:int):   # i번 노드 삭제. 고정 파라미터\n",
    "\t\tif (i >= 0 and i <= self.__numItems-1):\n",
    "\t\t\tprev = self.__getNode(i - 1)\n",
    "\t\t\tcurr = prev.next\n",
    "\t\t\tprev.next = curr.next\n",
    "\t\t\tretItem = curr.item\n",
    "\t\t\tself.__numItems -= 1\n",
    "\t\t\treturn retItem\n",
    "\t\telse:\n",
    "\t\t\treturn None"
   ]
  },
  {
   "cell_type": "markdown",
   "id": "f32f39c4",
   "metadata": {},
   "source": [
    "\t# [알고리즘 5 -4] 구현: 연결 리스트의 원소 x 삭제하기 (더미 헤드를 두는 대표 버전)\n",
    "\tdef remove(self, x):\n",
    "\t\t(prev, curr) = self.__findNode(x)\n",
    "\t\tif curr != None:\n",
    "\t\t\tprev.next = curr.next\n",
    "\t\t\tself.__numItems -= 1\n",
    "\t\t\treturn x\n",
    "\t\telse:\n",
    "\t\t\treturn None\n",
    "\n",
    "\tdef __findNode(self, x) -> (ListNode, ListNode):\n",
    "\t\tprev = self.__head  # 더미 헤드\n",
    "\t\tcurr = prev.next    # 0번 노드\n",
    "\t\twhile curr != None:\n",
    "\t\t\tif curr.item == x:\n",
    "\t\t\t\treturn (prev, curr)\n",
    "\t\t\telse:\n",
    "\t\t\t\tprev = curr; curr = curr.next\n",
    "\t\treturn (None, None)"
   ]
  }
 ],
 "metadata": {
  "language_info": {
   "name": "python"
  }
 },
 "nbformat": 4,
 "nbformat_minor": 5
}
